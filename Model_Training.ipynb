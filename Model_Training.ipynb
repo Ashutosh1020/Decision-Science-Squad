{
 "cells": [
  {
   "cell_type": "code",
   "execution_count": 1,
   "id": "b24063ce-bdcc-452a-9e58-57b29d7750c0",
   "metadata": {},
   "outputs": [],
   "source": [
    "import pandas as pd\n",
    "import numpy as np\n",
    "import seaborn as sns\n",
    "import matplotlib.pyplot as plt\n",
    "from sklearn.model_selection import train_test_split\n",
    "from sklearn.preprocessing import LabelEncoder, StandardScaler\n",
    "from sklearn.ensemble import RandomForestRegressor, GradientBoostingRegressor\n",
    "from sklearn.linear_model import LinearRegression\n",
    "from sklearn.metrics import mean_absolute_error, mean_squared_error, r2_score\n",
    "import joblib"
   ]
  },
  {
   "cell_type": "code",
   "execution_count": 2,
   "id": "bef48d1e-aa03-4f8a-ace9-e288cca9f882",
   "metadata": {},
   "outputs": [],
   "source": [
    "df = pd.read_csv('processed_flight_prices.csv')"
   ]
  },
  {
   "cell_type": "code",
   "execution_count": 3,
   "id": "5289aad3-d75b-498c-acdc-2d5f753f65c8",
   "metadata": {},
   "outputs": [
    {
     "data": {
      "text/html": [
       "<div>\n",
       "<style scoped>\n",
       "    .dataframe tbody tr th:only-of-type {\n",
       "        vertical-align: middle;\n",
       "    }\n",
       "\n",
       "    .dataframe tbody tr th {\n",
       "        vertical-align: top;\n",
       "    }\n",
       "\n",
       "    .dataframe thead th {\n",
       "        text-align: right;\n",
       "    }\n",
       "</style>\n",
       "<table border=\"1\" class=\"dataframe\">\n",
       "  <thead>\n",
       "    <tr style=\"text-align: right;\">\n",
       "      <th></th>\n",
       "      <th>Flight Date</th>\n",
       "      <th>Airline</th>\n",
       "      <th>Flight Number</th>\n",
       "      <th>Class</th>\n",
       "      <th>Origin</th>\n",
       "      <th>Departure Time</th>\n",
       "      <th>Destination</th>\n",
       "      <th>Arrival Time</th>\n",
       "      <th>Duration (Minutes)</th>\n",
       "      <th>Price (₹)</th>\n",
       "      <th>Number of Stops</th>\n",
       "      <th>Date</th>\n",
       "      <th>Month</th>\n",
       "      <th>Year</th>\n",
       "      <th>Day</th>\n",
       "    </tr>\n",
       "  </thead>\n",
       "  <tbody>\n",
       "    <tr>\n",
       "      <th>0</th>\n",
       "      <td>2023-06-26</td>\n",
       "      <td>SpiceJet</td>\n",
       "      <td>SG-8709</td>\n",
       "      <td>economy</td>\n",
       "      <td>Delhi</td>\n",
       "      <td>18:55</td>\n",
       "      <td>Mumbai</td>\n",
       "      <td>21:05</td>\n",
       "      <td>130</td>\n",
       "      <td>6013</td>\n",
       "      <td>0</td>\n",
       "      <td>26</td>\n",
       "      <td>6</td>\n",
       "      <td>2023</td>\n",
       "      <td>Monday</td>\n",
       "    </tr>\n",
       "    <tr>\n",
       "      <th>1</th>\n",
       "      <td>2023-06-26</td>\n",
       "      <td>SpiceJet</td>\n",
       "      <td>SG-8157</td>\n",
       "      <td>economy</td>\n",
       "      <td>Delhi</td>\n",
       "      <td>06:20</td>\n",
       "      <td>Mumbai</td>\n",
       "      <td>08:40</td>\n",
       "      <td>140</td>\n",
       "      <td>6013</td>\n",
       "      <td>0</td>\n",
       "      <td>26</td>\n",
       "      <td>6</td>\n",
       "      <td>2023</td>\n",
       "      <td>Monday</td>\n",
       "    </tr>\n",
       "    <tr>\n",
       "      <th>2</th>\n",
       "      <td>2023-06-26</td>\n",
       "      <td>AirAsia</td>\n",
       "      <td>I5-764</td>\n",
       "      <td>economy</td>\n",
       "      <td>Delhi</td>\n",
       "      <td>04:25</td>\n",
       "      <td>Mumbai</td>\n",
       "      <td>06:35</td>\n",
       "      <td>130</td>\n",
       "      <td>6016</td>\n",
       "      <td>0</td>\n",
       "      <td>26</td>\n",
       "      <td>6</td>\n",
       "      <td>2023</td>\n",
       "      <td>Monday</td>\n",
       "    </tr>\n",
       "  </tbody>\n",
       "</table>\n",
       "</div>"
      ],
      "text/plain": [
       "  Flight Date   Airline Flight Number    Class Origin Departure Time  \\\n",
       "0  2023-06-26  SpiceJet       SG-8709  economy  Delhi          18:55   \n",
       "1  2023-06-26  SpiceJet       SG-8157  economy  Delhi          06:20   \n",
       "2  2023-06-26   AirAsia        I5-764  economy  Delhi          04:25   \n",
       "\n",
       "  Destination Arrival Time  Duration (Minutes)  Price (₹)  Number of Stops  \\\n",
       "0      Mumbai        21:05                 130       6013                0   \n",
       "1      Mumbai        08:40                 140       6013                0   \n",
       "2      Mumbai        06:35                 130       6016                0   \n",
       "\n",
       "   Date  Month  Year     Day  \n",
       "0    26      6  2023  Monday  \n",
       "1    26      6  2023  Monday  \n",
       "2    26      6  2023  Monday  "
      ]
     },
     "execution_count": 3,
     "metadata": {},
     "output_type": "execute_result"
    }
   ],
   "source": [
    "df.head(3)"
   ]
  },
  {
   "cell_type": "code",
   "execution_count": 4,
   "id": "53df20dc-b05c-4710-b48d-a36801f8ddaf",
   "metadata": {},
   "outputs": [],
   "source": [
    "# Convert 'Flight Date' to datetime\n",
    "df['Flight Date'] = pd.to_datetime(df['Flight Date'], errors='coerce')"
   ]
  },
  {
   "cell_type": "code",
   "execution_count": 5,
   "id": "001498df-7421-4f22-ae84-60a758b38bf9",
   "metadata": {},
   "outputs": [],
   "source": [
    "# Drop Flight Number (not useful for prediction)\n",
    "df.drop(columns=['Flight Number'], inplace=True)"
   ]
  },
  {
   "cell_type": "code",
   "execution_count": 6,
   "id": "dfce26e1-6a92-4a34-9508-25039bdce232",
   "metadata": {},
   "outputs": [],
   "source": [
    "# Convert 'Departure Time' & 'Arrival Time' into hours (numerical format)\n",
    "\n",
    "df[\"Departure Hour\"] = pd.to_datetime(df[\"Departure Time\"], format=\"%H:%M\", errors=\"coerce\").dt.hour\n",
    "df[\"Arrival Hour\"] = pd.to_datetime(df[\"Arrival Time\"], format=\"%H:%M\", errors=\"coerce\").dt.hour"
   ]
  },
  {
   "cell_type": "code",
   "execution_count": 7,
   "id": "fa32f99a-6810-4227-89b1-2c99e40d1622",
   "metadata": {},
   "outputs": [],
   "source": [
    "# Drop original time columns as they are now encoded\n",
    "df.drop(columns=[\"Departure Time\", \"Arrival Time\"], errors=\"ignore\", inplace=True)"
   ]
  },
  {
   "cell_type": "code",
   "execution_count": 8,
   "id": "e5a0a3ef-2299-4bde-984c-741d5ed8c485",
   "metadata": {},
   "outputs": [],
   "source": [
    "# Label Encoding for ordinal variables\n",
    "label_encoder = LabelEncoder()\n",
    "df['Class'] = label_encoder.fit_transform(df['Class'])"
   ]
  },
  {
   "cell_type": "code",
   "execution_count": 9,
   "id": "38a0b48c-8aae-4dd4-bb75-d67fef688e19",
   "metadata": {},
   "outputs": [
    {
     "name": "stdout",
     "output_type": "stream",
     "text": [
      "✅ Encoding Complete!\n"
     ]
    }
   ],
   "source": [
    "# 📌 Step 5: One-Hot Encode Categorical Features\n",
    "categorical_cols = [\"Airline\", \"Day\", \"Origin\", \"Destination\"]\n",
    "df = pd.get_dummies(df, columns=categorical_cols, drop_first=True)\n",
    "\n",
    "print(\"✅ Encoding Complete!\")"
   ]
  },
  {
   "cell_type": "code",
   "execution_count": 10,
   "id": "838c3fa0-7744-4664-80ba-585e6d7a38ab",
   "metadata": {},
   "outputs": [
    {
     "data": {
      "text/html": [
       "<div>\n",
       "<style scoped>\n",
       "    .dataframe tbody tr th:only-of-type {\n",
       "        vertical-align: middle;\n",
       "    }\n",
       "\n",
       "    .dataframe tbody tr th {\n",
       "        vertical-align: top;\n",
       "    }\n",
       "\n",
       "    .dataframe thead th {\n",
       "        text-align: right;\n",
       "    }\n",
       "</style>\n",
       "<table border=\"1\" class=\"dataframe\">\n",
       "  <thead>\n",
       "    <tr style=\"text-align: right;\">\n",
       "      <th></th>\n",
       "      <th>Flight Date</th>\n",
       "      <th>Class</th>\n",
       "      <th>Duration (Minutes)</th>\n",
       "      <th>Price (₹)</th>\n",
       "      <th>Number of Stops</th>\n",
       "      <th>Date</th>\n",
       "      <th>Month</th>\n",
       "      <th>Year</th>\n",
       "      <th>Departure Hour</th>\n",
       "      <th>Arrival Hour</th>\n",
       "      <th>...</th>\n",
       "      <th>Origin_Chennai</th>\n",
       "      <th>Origin_Delhi</th>\n",
       "      <th>Origin_Hyderabad</th>\n",
       "      <th>Origin_Kolkata</th>\n",
       "      <th>Origin_Mumbai</th>\n",
       "      <th>Destination_Chennai</th>\n",
       "      <th>Destination_Delhi</th>\n",
       "      <th>Destination_Hyderabad</th>\n",
       "      <th>Destination_Kolkata</th>\n",
       "      <th>Destination_Mumbai</th>\n",
       "    </tr>\n",
       "  </thead>\n",
       "  <tbody>\n",
       "    <tr>\n",
       "      <th>0</th>\n",
       "      <td>2023-06-26</td>\n",
       "      <td>1</td>\n",
       "      <td>130</td>\n",
       "      <td>6013</td>\n",
       "      <td>0</td>\n",
       "      <td>26</td>\n",
       "      <td>6</td>\n",
       "      <td>2023</td>\n",
       "      <td>18</td>\n",
       "      <td>21</td>\n",
       "      <td>...</td>\n",
       "      <td>False</td>\n",
       "      <td>True</td>\n",
       "      <td>False</td>\n",
       "      <td>False</td>\n",
       "      <td>False</td>\n",
       "      <td>False</td>\n",
       "      <td>False</td>\n",
       "      <td>False</td>\n",
       "      <td>False</td>\n",
       "      <td>True</td>\n",
       "    </tr>\n",
       "    <tr>\n",
       "      <th>1</th>\n",
       "      <td>2023-06-26</td>\n",
       "      <td>1</td>\n",
       "      <td>140</td>\n",
       "      <td>6013</td>\n",
       "      <td>0</td>\n",
       "      <td>26</td>\n",
       "      <td>6</td>\n",
       "      <td>2023</td>\n",
       "      <td>6</td>\n",
       "      <td>8</td>\n",
       "      <td>...</td>\n",
       "      <td>False</td>\n",
       "      <td>True</td>\n",
       "      <td>False</td>\n",
       "      <td>False</td>\n",
       "      <td>False</td>\n",
       "      <td>False</td>\n",
       "      <td>False</td>\n",
       "      <td>False</td>\n",
       "      <td>False</td>\n",
       "      <td>True</td>\n",
       "    </tr>\n",
       "    <tr>\n",
       "      <th>2</th>\n",
       "      <td>2023-06-26</td>\n",
       "      <td>1</td>\n",
       "      <td>130</td>\n",
       "      <td>6016</td>\n",
       "      <td>0</td>\n",
       "      <td>26</td>\n",
       "      <td>6</td>\n",
       "      <td>2023</td>\n",
       "      <td>4</td>\n",
       "      <td>6</td>\n",
       "      <td>...</td>\n",
       "      <td>False</td>\n",
       "      <td>True</td>\n",
       "      <td>False</td>\n",
       "      <td>False</td>\n",
       "      <td>False</td>\n",
       "      <td>False</td>\n",
       "      <td>False</td>\n",
       "      <td>False</td>\n",
       "      <td>False</td>\n",
       "      <td>True</td>\n",
       "    </tr>\n",
       "  </tbody>\n",
       "</table>\n",
       "<p>3 rows × 33 columns</p>\n",
       "</div>"
      ],
      "text/plain": [
       "  Flight Date  Class  Duration (Minutes)  Price (₹)  Number of Stops  Date  \\\n",
       "0  2023-06-26      1                 130       6013                0    26   \n",
       "1  2023-06-26      1                 140       6013                0    26   \n",
       "2  2023-06-26      1                 130       6016                0    26   \n",
       "\n",
       "   Month  Year  Departure Hour  Arrival Hour  ...  Origin_Chennai  \\\n",
       "0      6  2023              18            21  ...           False   \n",
       "1      6  2023               6             8  ...           False   \n",
       "2      6  2023               4             6  ...           False   \n",
       "\n",
       "   Origin_Delhi  Origin_Hyderabad  Origin_Kolkata  Origin_Mumbai  \\\n",
       "0          True             False           False          False   \n",
       "1          True             False           False          False   \n",
       "2          True             False           False          False   \n",
       "\n",
       "   Destination_Chennai  Destination_Delhi  Destination_Hyderabad  \\\n",
       "0                False              False                  False   \n",
       "1                False              False                  False   \n",
       "2                False              False                  False   \n",
       "\n",
       "   Destination_Kolkata  Destination_Mumbai  \n",
       "0                False                True  \n",
       "1                False                True  \n",
       "2                False                True  \n",
       "\n",
       "[3 rows x 33 columns]"
      ]
     },
     "execution_count": 10,
     "metadata": {},
     "output_type": "execute_result"
    }
   ],
   "source": [
    "df.head(3)"
   ]
  },
  {
   "cell_type": "code",
   "execution_count": null,
   "id": "9a1a002f-231f-4d31-b2bb-4e13e454e71c",
   "metadata": {},
   "outputs": [],
   "source": []
  },
  {
   "cell_type": "markdown",
   "id": "56742743-dae5-4d11-a7e4-2679581943a2",
   "metadata": {},
   "source": [
    "### Feature Scaling & Splitting"
   ]
  },
  {
   "cell_type": "code",
   "execution_count": 12,
   "id": "cea07f7d-9aa3-4cb6-bd81-ecc9e6f5de2a",
   "metadata": {},
   "outputs": [],
   "source": [
    "# Select Features and Target\n",
    "X = df.drop(columns=['Price (₹)', 'Flight Date'])\n",
    "y = df['Price (₹)']"
   ]
  },
  {
   "cell_type": "code",
   "execution_count": 13,
   "id": "1d037b09-714b-4068-9436-e2b58686b978",
   "metadata": {},
   "outputs": [],
   "source": [
    "# Identify numerical columns\n",
    "numerical_cols = [\"Number of Stops\", \"Duration (Minutes)\", \"Date\", \"Month\", \"Year\", \"Departure Hour\", \"Arrival Hour\"]"
   ]
  },
  {
   "cell_type": "code",
   "execution_count": 14,
   "id": "cd9678ba-b26d-4aca-bdd0-10919cabd95d",
   "metadata": {},
   "outputs": [],
   "source": [
    "# Separate numerical and categorical features\n",
    "X_numerical = X[numerical_cols]\n",
    "X_categorical = X.drop(columns=numerical_cols)"
   ]
  },
  {
   "cell_type": "code",
   "execution_count": 15,
   "id": "b921f2a2-aafd-42f7-b303-af200ff1f73b",
   "metadata": {},
   "outputs": [],
   "source": [
    "# Standardize only numerical features\n",
    "scaler = StandardScaler()\n",
    "X_numerical_scaled = scaler.fit_transform(X_numerical)"
   ]
  },
  {
   "cell_type": "code",
   "execution_count": 16,
   "id": "347be125-2b8b-4c8c-9322-5040bb682e93",
   "metadata": {},
   "outputs": [],
   "source": [
    "# Recombine scaled numerical features with categorical features\n",
    "X_scaled = np.hstack((X_numerical_scaled, X_categorical))"
   ]
  },
  {
   "cell_type": "code",
   "execution_count": 17,
   "id": "acf31523-baa8-464a-8520-9fe02e66304c",
   "metadata": {},
   "outputs": [
    {
     "name": "stdout",
     "output_type": "stream",
     "text": [
      "✅ Train-Test Split Complete!\n"
     ]
    }
   ],
   "source": [
    "# Split dataset\n",
    "X_train, X_test, y_train, y_test = train_test_split(X_scaled, y, test_size=0.2, random_state=42)\n",
    "\n",
    "print(\"✅ Train-Test Split Complete!\")"
   ]
  },
  {
   "cell_type": "markdown",
   "id": "550b3fe0-0065-4a6e-8d15-f90634c733f6",
   "metadata": {},
   "source": [
    "### Model Training"
   ]
  },
  {
   "cell_type": "code",
   "execution_count": 19,
   "id": "3872161e-17f9-499c-8d7c-7c71aedea50f",
   "metadata": {},
   "outputs": [],
   "source": [
    "models = {\n",
    "    \"Linear Regression\": LinearRegression(),\n",
    "    \"Random Forest\": RandomForestRegressor(n_estimators=100, max_depth=15, min_samples_split=10, random_state=42),\n",
    "    \"Gradient Boosting\": GradientBoostingRegressor(n_estimators=100, learning_rate=0.1, random_state=42)\n",
    "}\n",
    "\n",
    "results = {}\n",
    "\n",
    "for name, model in models.items():\n",
    "    model.fit(X_train, y_train)\n",
    "    y_pred = model.predict(X_test)\n",
    "\n",
    "    mae = mean_absolute_error(y_test, y_pred)\n",
    "    rmse = np.sqrt(mean_squared_error(y_test, y_pred))\n",
    "    r2 = r2_score(y_test, y_pred)\n",
    "\n",
    "    results[name] = {\"MAE\": mae, \"RMSE\": rmse, \"R² Score\": r2}\n"
   ]
  },
  {
   "cell_type": "code",
   "execution_count": 20,
   "id": "9f102d3c-a7b4-4a2d-8f8b-d31f7285543d",
   "metadata": {},
   "outputs": [
    {
     "name": "stdout",
     "output_type": "stream",
     "text": [
      "✅ Model Training Complete! Results:\n",
      "                           MAE         RMSE  R² Score\n",
      "Linear Regression  4592.626051  6951.928228  0.909456\n",
      "Random Forest      1777.790323  3373.447094  0.978680\n",
      "Gradient Boosting  3038.886371  5074.414646  0.951759\n"
     ]
    }
   ],
   "source": [
    "# Display model results\n",
    "results_df = pd.DataFrame(results).T\n",
    "print(\"✅ Model Training Complete! Results:\")\n",
    "print(results_df)"
   ]
  },
  {
   "cell_type": "markdown",
   "id": "e44c7771-da43-4321-a6fc-6cbf0c4f9604",
   "metadata": {},
   "source": [
    "### Hyperparameter Optimization"
   ]
  },
  {
   "cell_type": "code",
   "execution_count": 22,
   "id": "4a200640-120a-439c-80fe-17dc4e9feefd",
   "metadata": {},
   "outputs": [],
   "source": [
    "from sklearn.model_selection import GridSearchCV\n",
    "from sklearn.model_selection import RandomizedSearchCV\n",
    "import numpy as np"
   ]
  },
  {
   "cell_type": "code",
   "execution_count": 23,
   "id": "77d317bb-a207-4c3d-b808-802f60f60bf8",
   "metadata": {},
   "outputs": [
    {
     "name": "stdout",
     "output_type": "stream",
     "text": [
      "✅ Best Hyperparameters: {'n_estimators': 100, 'min_samples_split': 10, 'min_samples_leaf': 5, 'max_depth': 15}\n"
     ]
    }
   ],
   "source": [
    "param_dist = {\n",
    "    \"n_estimators\": [50, 100, 150],\n",
    "    \"max_depth\": [10, 15], \n",
    "    \"min_samples_split\": [10, 15], \n",
    "    \"min_samples_leaf\": [5, 10] \n",
    "}\n",
    "\n",
    "# Randomized Search\n",
    "random_search = RandomizedSearchCV(\n",
    "    RandomForestRegressor(random_state=42),\n",
    "    param_distributions=param_dist,\n",
    "    n_iter=10, \n",
    "    cv=5, \n",
    "    scoring=\"neg_mean_absolute_error\",\n",
    "    n_jobs=-1,\n",
    "    random_state=42\n",
    ")\n",
    "\n",
    "# Fit model\n",
    "random_search.fit(X_train, y_train)\n",
    "print(\"✅ Best Hyperparameters:\", random_search.best_params_)"
   ]
  },
  {
   "cell_type": "code",
   "execution_count": 24,
   "id": "ef1df798-d1a1-483d-9c40-90c4491fab98",
   "metadata": {},
   "outputs": [
    {
     "name": "stdout",
     "output_type": "stream",
     "text": [
      "🎯 Final Model Performance: MAE = 1791.72, RMSE = 3396.56, R² Score = 0.98\n"
     ]
    }
   ],
   "source": [
    "# Train Best Model\n",
    "best_model = random_search.best_estimator_  \n",
    "y_pred = best_model.predict(X_test)\n",
    "\n",
    "# Test Performance Evaluation\n",
    "final_mae = mean_absolute_error(y_test, y_pred)\n",
    "final_rmse = np.sqrt(mean_squared_error(y_test, y_pred))\n",
    "final_r2 = r2_score(y_test, y_pred)\n",
    "print(f\"🎯 Final Model Performance: MAE = {final_mae:.2f}, RMSE = {final_rmse:.2f}, R² Score = {final_r2:.2f}\")"
   ]
  },
  {
   "cell_type": "code",
   "execution_count": 25,
   "id": "1f7dcc57-8ad2-4653-a585-47e03ce01a79",
   "metadata": {},
   "outputs": [
    {
     "name": "stdout",
     "output_type": "stream",
     "text": [
      "🏋️‍♂️ Training Performance: MAE = 1678.20, RMSE = 3174.02, R² Score = 0.98\n"
     ]
    }
   ],
   "source": [
    "# Training Performance Evaluation\n",
    "y_train_pred = best_model.predict(X_train)\n",
    "train_mae = mean_absolute_error(y_train, y_train_pred)\n",
    "train_rmse = np.sqrt(mean_squared_error(y_train, y_train_pred))\n",
    "train_r2 = r2_score(y_train, y_train_pred)\n",
    "print(f\"🏋️‍♂️ Training Performance: MAE = {train_mae:.2f}, RMSE = {train_rmse:.2f}, R² Score = {train_r2:.2f}\")"
   ]
  },
  {
   "cell_type": "markdown",
   "id": "5816961d-f1d3-4888-a970-e5c8028efb80",
   "metadata": {},
   "source": [
    "### Save the Model"
   ]
  },
  {
   "cell_type": "code",
   "execution_count": 27,
   "id": "0df9f6d4-934b-4899-aca1-997f634de848",
   "metadata": {},
   "outputs": [
    {
     "name": "stdout",
     "output_type": "stream",
     "text": [
      "✅ Model saved successfully as optimized_flight_model.pkl\n",
      "👉 Feature Columns saved as flight_features.pkl\n"
     ]
    }
   ],
   "source": [
    "# Save the trained model\n",
    "joblib.dump(best_model, \"optimized_flight_model.pkl\")\n",
    "\n",
    "# # Save feature column names\n",
    "joblib.dump(list(X.columns), \"flight_features.pkl\")\n",
    "\n",
    "print(\"✅ Model saved successfully as optimized_flight_model.pkl\")\n",
    "print(\"👉 Feature Columns saved as flight_features.pkl\")"
   ]
  },
  {
   "cell_type": "code",
   "execution_count": 28,
   "id": "2cccd873-957a-445a-a809-a2ccfd456fa8",
   "metadata": {},
   "outputs": [
    {
     "name": "stdout",
     "output_type": "stream",
     "text": [
      "✅ Scaler saved successfully as flight_scaler.pkl\n"
     ]
    }
   ],
   "source": [
    "# Save the fitted scaler\n",
    "joblib.dump(scaler, \"flight_scaler.pkl\")\n",
    "print(\"✅ Scaler saved successfully as flight_scaler.pkl\")"
   ]
  },
  {
   "cell_type": "code",
   "execution_count": null,
   "id": "f6b36513-7438-4e3a-bd0c-2408a507094c",
   "metadata": {},
   "outputs": [],
   "source": []
  }
 ],
 "metadata": {
  "kernelspec": {
   "display_name": "Python 3 (ipykernel)",
   "language": "python",
   "name": "python3"
  },
  "language_info": {
   "codemirror_mode": {
    "name": "ipython",
    "version": 3
   },
   "file_extension": ".py",
   "mimetype": "text/x-python",
   "name": "python",
   "nbconvert_exporter": "python",
   "pygments_lexer": "ipython3",
   "version": "3.12.7"
  }
 },
 "nbformat": 4,
 "nbformat_minor": 5
}
